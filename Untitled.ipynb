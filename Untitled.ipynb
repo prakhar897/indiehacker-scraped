{
 "cells": [
  {
   "cell_type": "code",
   "execution_count": 1,
   "id": "e0c6d8e2",
   "metadata": {},
   "outputs": [],
   "source": [
    "import pandas as pd\n",
    "from selenium import webdriver\n",
    "from selenium.webdriver.chrome.service import Service as ChromeService\n",
    "from selenium.webdriver.common.by import By\n",
    "import time\n",
    "\n",
    "df = pd.read_csv('full_data.csv')\n",
    "\n",
    "driver = webdriver.Chrome(service=ChromeService())\n",
    "count = 0"
   ]
  },
  {
   "cell_type": "code",
   "execution_count": 31,
   "id": "3d37f4b8",
   "metadata": {},
   "outputs": [
    {
     "name": "stdout",
     "output_type": "stream",
     "text": [
      "\n",
      "Newton is crypto as it should be: with native mobile apps, instant approval, and no commissions.\n",
      "https://twitter.com/newton_crypto\n",
      "No Data\n",
      "['Nickolas Tsagatakis', 'Andreea']\n"
     ]
    }
   ],
   "source": [
    "url = \"https://www.indiehackers.com/product/newton-co\"\n",
    "driver.get(url)\n",
    "\n",
    "\n",
    "\n",
    "\n",
    "print(about)\n",
    "print(twitter)\n",
    "print(visitors)\n",
    "print(founders)"
   ]
  },
  {
   "cell_type": "code",
   "execution_count": null,
   "id": "c831135a",
   "metadata": {},
   "outputs": [],
   "source": []
  }
 ],
 "metadata": {
  "kernelspec": {
   "display_name": "Python 3 (ipykernel)",
   "language": "python",
   "name": "python3"
  },
  "language_info": {
   "codemirror_mode": {
    "name": "ipython",
    "version": 3
   },
   "file_extension": ".py",
   "mimetype": "text/x-python",
   "name": "python",
   "nbconvert_exporter": "python",
   "pygments_lexer": "ipython3",
   "version": "3.10.11"
  }
 },
 "nbformat": 4,
 "nbformat_minor": 5
}

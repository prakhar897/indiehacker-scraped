{
 "cells": [
  {
   "cell_type": "code",
   "execution_count": 1,
   "id": "a660bc6d",
   "metadata": {},
   "outputs": [],
   "source": [
    "import pandas as pd\n",
    "from selenium import webdriver\n",
    "from selenium.webdriver.chrome.service import Service as ChromeService\n",
    "from selenium.webdriver.common.by import By\n",
    "import time\n",
    "\n",
    "df = pd.read_csv('full_data.csv')\n",
    "\n",
    "driver = webdriver.Chrome(service=ChromeService())\n",
    "count = 0"
   ]
  },
  {
   "cell_type": "code",
   "execution_count": 31,
   "id": "e8985f3d",
   "metadata": {},
   "outputs": [
    {
     "name": "stdout",
     "output_type": "stream",
     "text": [
      "\n",
      "Newton is crypto as it should be: with native mobile apps, instant approval, and no commissions.\n",
      "https://twitter.com/newton_crypto\n",
      "No Data\n",
      "['Nickolas Tsagatakis', 'Andreea']\n"
     ]
    }
   ],
   "source": [
    "url = \"https://www.indiehackers.com/product/newton-co\"\n",
    "driver.get(url)\n",
    "\n",
    "\n",
    "try:\n",
    "    about = driver.find_element(By.CLASS_NAME, 'product-sidebar__description').text\n",
    "    about = about.replace(\"ABOUT\",\"\")\n",
    "except: \n",
    "    about = \"No data\"\n",
    "\n",
    "\n",
    "try:\n",
    "    twitter = driver.find_element(By.CLASS_NAME, 'product-metrics__stat--twitter').get_attribute('href')\n",
    "except: \n",
    "    twitter = \"No Data\"\n",
    "\n",
    "\n",
    "\n",
    "\n",
    "try:\n",
    "    visitors = driver.find_element(By.CLASS_NAME, 'product-metrics__stat--visitors').text\n",
    "    visitors = visitors.replace(\"VISITORS\",\"\").replace(\"\\n\",\"\")\n",
    "except: \n",
    "    visitors = \"No Data\"\n",
    "    \n",
    "try:\n",
    "    founder_elements = driver.find_elements(By.CSS_SELECTOR, '.product-sidebar__users .user-link__name')\n",
    "    founders = [founder_element.text for founder_element in founder_elements]\n",
    "except:\n",
    "    founders = \"No Data\"\n",
    "\n",
    "print(about)\n",
    "print(twitter)\n",
    "print(visitors)\n",
    "print(founders)"
   ]
  },
  {
   "cell_type": "code",
   "execution_count": null,
   "id": "50476868",
   "metadata": {},
   "outputs": [],
   "source": []
  }
 ],
 "metadata": {
  "kernelspec": {
   "display_name": "Python 3 (ipykernel)",
   "language": "python",
   "name": "python3"
  },
  "language_info": {
   "codemirror_mode": {
    "name": "ipython",
    "version": 3
   },
   "file_extension": ".py",
   "mimetype": "text/x-python",
   "name": "python",
   "nbconvert_exporter": "python",
   "pygments_lexer": "ipython3",
   "version": "3.10.11"
  }
 },
 "nbformat": 4,
 "nbformat_minor": 5
}
